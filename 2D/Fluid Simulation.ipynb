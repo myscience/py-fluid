{
 "cells": [
  {
   "cell_type": "code",
   "execution_count": 3,
   "metadata": {},
   "outputs": [
    {
     "name": "stderr",
     "output_type": "stream",
     "text": [
      "Computing Fluid Simulation: 100%|██████████| 100/100 [5:08:04<00:00, 184.85s/it] \n"
     ]
    }
   ],
   "source": [
    "import numpy as np\n",
    "from fluid import Fluid\n",
    "from particles import Swarm\n",
    "from utils import Vec\n",
    "from levelset import Levelset\n",
    "\n",
    "from debug import get_image\n",
    "from tqdm import trange\n",
    "\n",
    "from PIL import Image\n",
    "\n",
    "import cProfile, pstats, io\n",
    "from pstats import SortKey\n",
    "\n",
    "# Size of domain in the X and Y direction\n",
    "sX, sY = 1, 1 # meters\n",
    "\n",
    "# Total time of the simulation\n",
    "T = 1 # seconds\n",
    "\n",
    "# Resolution of the domain discretization\n",
    "w, h = 512, 512\n",
    "\n",
    "# Space|Time step size of domain\n",
    "dx = sX / w  # meters\n",
    "dt = 0.01 * T # seconds\n",
    "\n",
    "fls = np.ones((h, w)) * -1\n",
    "sls = np.ones((h, w)) * +1\n",
    "\n",
    "fls[0, :] = fls[-1, :] = fls[:, 0] = fls[:, -1] = +1\n",
    "sls[0, :] = sls[-1, :] = sls[:, 0] = sls[:, -1] = -1\n",
    "\n",
    "fls = Levelset(fls)\n",
    "sls = Levelset(sls)\n",
    "\n",
    "# Prepare the initial payload\n",
    "ppc = 3\n",
    "\n",
    "img = np.asarray(Image.open('painting.jfif').resize((w-2, h-2), resample = Image.NEAREST)).reshape(-1, 3)\n",
    "pl = [{'ink' : Vec(float(r), float(g), float(b))} for r, g, b in img for _ in range(ppc)]\n",
    "\n",
    "fluid = Fluid((w, h), fls, sls, ppc = ppc, pl = pl, dx = dx)\n",
    "\n",
    "# init = Image.open('heart.jfif').resize((w, h), resample = Image.NEAREST).convert('L')\n",
    "# init = Levelset(np.asarray(init, dtype = float) - 200)\n",
    "# Vy = -1 * dx / dt\n",
    "# print(Vy)\n",
    "\n",
    "# for p in fluid.S.get(init): \n",
    "#     # NOTE: Velocity should be expressed in meter / second\n",
    "#     p.update('vel', Vy, 'y') \n",
    "#     p.update('ink', Vec(255., 0., 0.))\n",
    "\n",
    "initL = Image.open('start_left.jpeg' ).resize((w-2, h-2), resample = Image.NEAREST).convert('L')\n",
    "initR = Image.open('start_right.jpeg').resize((w-2, h-2), resample = Image.NEAREST).convert('L')\n",
    "\n",
    "initL = Levelset(np.asarray(initL, dtype = float) - 200)\n",
    "initR = Levelset(np.asarray(initR, dtype = float) - 200)\n",
    "\n",
    "PL = fluid.S.get(initL)\n",
    "PR = fluid.S.get(initR)\n",
    "\n",
    "for p in PL: p.update('vel', -1 * dx / dt, 'x')\n",
    "for p in PR: p.update('vel', +1 * dx / dt, 'x')\n",
    "\n",
    "IMG = [fluid.screenshot()]\n",
    "\n",
    "# pr = cProfile.Profile()\n",
    "# pr.enable()\n",
    "\n",
    "steps = int(T / dt)\n",
    "for _ in trange(steps, desc = 'Computing Fluid Simulation'):\n",
    "    fluid.step(dt)\n",
    "\n",
    "    IMG += [fluid.screenshot()]\n",
    "\n",
    "# pr.disable()\n",
    "# pr.print_stats(SortKey.CUMULATIVE)\n",
    "IMG[0].save('debug.gif', save_all = True, append_images = IMG[1:], duration = 20, loop = 0)\n",
    "# IMG[0].save('van_gogh_3.gif', save_all = True, append_images = IMG[1:], duration = 20, loop = 0)\n"
   ]
  }
 ],
 "metadata": {
  "interpreter": {
   "hash": "63bc7039520e9c83d9945330fac7eb95e94f586fea51b2481b3811e9cf2146ad"
  },
  "kernelspec": {
   "display_name": "Python 3.7.9 64-bit ('SISSA': conda)",
   "language": "python",
   "name": "python3"
  },
  "language_info": {
   "codemirror_mode": {
    "name": "ipython",
    "version": 3
   },
   "file_extension": ".py",
   "mimetype": "text/x-python",
   "name": "python",
   "nbconvert_exporter": "python",
   "pygments_lexer": "ipython3",
   "version": "3.7.9"
  },
  "orig_nbformat": 4
 },
 "nbformat": 4,
 "nbformat_minor": 2
}
