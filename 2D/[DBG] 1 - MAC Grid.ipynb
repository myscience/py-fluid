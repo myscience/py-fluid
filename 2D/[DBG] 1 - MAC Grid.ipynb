{
 "cells": [
  {
   "cell_type": "code",
   "execution_count": 2,
   "metadata": {},
   "outputs": [
    {
     "name": "stdout",
     "output_type": "stream",
     "text": [
      "[[ 0  1  2  3]\n",
      " [ 4  5  6  7]\n",
      " [ 8  9 10 11]]\n",
      "[array([3.5]), array([8.1]), array([0.2])]\n"
     ]
    },
    {
     "data": {
      "image/png": "[encoded data removed]",
      "text/plain": [
       "<Figure size 432x288 with 1 Axes>"
      ]
     },
     "metadata": {
      "needs_background": "light"
     },
     "output_type": "display_data"
    }
   ],
   "source": [
    "import importlib\n",
    "import mac\n",
    "import utils\n",
    "importlib.reload(mac)\n",
    "importlib.reload(utils)\n",
    "\n",
    "from mac import MACArray\n",
    "from utils import Vec\n",
    "\n",
    "import numpy as np\n",
    "import matplotlib.pyplot as plt\n",
    "\n",
    "off = Vec(0., 0.5)\n",
    "test = ((1.5, 1.), (1.7, 2.1), (0.2, 0.3))\n",
    "\n",
    "r, c = 3, 4\n",
    "data = np.arange(r * c).reshape(r, c)\n",
    "U = MACArray(data, off = off)\n",
    "\n",
    "\n",
    "print(U)\n",
    "print(U(test, interp = 'linear'))\n",
    "\n",
    "x, y = np.arange(U.shape[1]), np.arange(U.shape[0])\n",
    "X, Y = np.meshgrid(x, y)\n",
    "\n",
    "fig, ax = plt.subplots()\n",
    "\n",
    "ax.quiver(X + off.x, Y + off.y, U, 0)\n",
    "ax.scatter(*list(zip(*test)), color = 'r')\n",
    "\n",
    "ax.set_xticks(np.append(x, U.shape[1] - 1))\n",
    "ax.set_yticks(np.append(y, U.shape[0])[::-1])\n",
    "ax.set_ylim(ax.get_ylim()[::-1])\n",
    "ax.grid()\n",
    "ax.set_aspect(1)    "
   ]
  }
 ],
 "metadata": {
  "interpreter": {
   "hash": "63bc7039520e9c83d9945330fac7eb95e94f586fea51b2481b3811e9cf2146ad"
  },
  "kernelspec": {
   "display_name": "Python 3.7.9 64-bit ('SISSA': conda)",
   "language": "python",
   "name": "python3"
  },
  "language_info": {
   "codemirror_mode": {
    "name": "ipython",
    "version": 3
   },
   "file_extension": ".py",
   "mimetype": "text/x-python",
   "name": "python",
   "nbconvert_exporter": "python",
   "pygments_lexer": "ipython3",
   "version": "3.7.9"
  },
  "orig_nbformat": 4
 },
 "nbformat": 4,
 "nbformat_minor": 2
}
