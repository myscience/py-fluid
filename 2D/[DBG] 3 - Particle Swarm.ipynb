{
 "cells": [
  {
   "cell_type": "code",
   "execution_count": 18,
   "metadata": {},
   "outputs": [],
   "source": [
    "import importlib\n",
    "import particles\n",
    "import mac\n",
    "import utils\n",
    "import debug\n",
    "importlib.reload(particles)\n",
    "importlib.reload(utils)\n",
    "importlib.reload(mac)\n",
    "importlib.reload(debug)\n",
    "\n",
    "from particles import Swarm\n",
    "from utils import Vec\n",
    "from mac import MACArray\n",
    "from debug import get_image\n",
    "\n",
    "import numpy as np\n",
    "import matplotlib.pyplot as plt\n",
    "\n",
    "# Create a basic field\n",
    "off_u, off_v  = Vec(0., 0.5), Vec(0.5, 0.)\n",
    "# U = MACArray.zeros((5, 6), off = off_u)\n",
    "# V = MACArray.zeros((6, 5), off = off_v)\n",
    "\n",
    "r, c = 10, 10\n",
    "x, y = np.linspace(-1, 1, num = r + 1), np.linspace(-1, 1, num = c + 1)\n",
    "X, Y = np.meshgrid(x, y)\n",
    "U =  Y[:-1, :]\n",
    "V = -X[:, :-1]\n",
    "\n",
    "U = MACArray(U, off = off_u)\n",
    "V = MACArray(V, off = off_v)\n",
    "\n",
    "# Create a Swarm of particles\n",
    "# SS = [Swarm((0, 5, 0, 5), r, Vec(0., 0.)) for r in [5, 20, 50, 100, 250, 500, 1000]]\n",
    "num = 50\n",
    "S = Swarm((0, c, 0, r), num, [Vec.rand(2, (0, 1)) for _ in range(num)])\n",
    "\n",
    "# get_image(U, V, S)\n",
    "\n",
    "# U.fit(S, 'vel', 'x')\n",
    "# V.fit(S, 'vel', 'y')\n",
    "\n",
    "# U_init = U.copy()\n",
    "# V_init = V.copy()\n",
    "IMG = []\n",
    "\n",
    "for _ in range(150):\n",
    "    IMG += [get_image(U, V, S)]\n",
    "    S.advect(0.1, U, V)\n",
    "    \n",
    "    S.fit(U, 'vel', 'x')\n",
    "    S.fit(V, 'vel', 'y')\n",
    "\n",
    "\n",
    "IMG[0].save('debug.gif', save_all = True, append_images = IMG[1:], duration = 20, loop = 0)"
   ]
  }
 ],
 "metadata": {
  "interpreter": {
   "hash": "63bc7039520e9c83d9945330fac7eb95e94f586fea51b2481b3811e9cf2146ad"
  },
  "kernelspec": {
   "display_name": "Python 3.7.9 64-bit ('SISSA': conda)",
   "language": "python",
   "name": "python3"
  },
  "language_info": {
   "codemirror_mode": {
    "name": "ipython",
    "version": 3
   },
   "file_extension": ".py",
   "mimetype": "text/x-python",
   "name": "python",
   "nbconvert_exporter": "python",
   "pygments_lexer": "ipython3",
   "version": "3.7.9"
  },
  "orig_nbformat": 4
 },
 "nbformat": 4,
 "nbformat_minor": 2
}
